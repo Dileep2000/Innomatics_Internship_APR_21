{
 "cells": [
  {
   "cell_type": "markdown",
   "metadata": {},
   "source": [
    "Task_8:Question_1:Binomial Distribution I\n",
    "\n",
    "The ratio of boys to girls for babies born in Russia is 1.09:1. If there is child born per birth, what proportion of Russian families with exactly 6 children will have at least 3 boys?\n",
    "\n",
    "Write a program to compute the answer using the above parameters. Then print your result, rounded to a scale of 3 decimal places (i.e., 1.234 format).\n",
    "\n",
    "https://www.hackerrank.com/challenges/s10-binomial-distribution-1"
   ]
  },
  {
   "cell_type": "code",
   "execution_count": 1,
   "metadata": {},
   "outputs": [
    {
     "name": "stdout",
     "output_type": "stream",
     "text": [
      "1.09 1\n",
      "0.696\n"
     ]
    }
   ],
   "source": [
    "from math import factorial\n",
    "boy,girl=list(map(float,input().split()))\n",
    "p=boy/(boy+girl)\n",
    "q=1-p\n",
    "boy_3=(factorial(6)/(factorial(3)**2))*(p**3)*(q**3)\n",
    "boy_4=(factorial(6)/(factorial(4)*factorial(2)))*(p**4)*(q**2)\n",
    "boy_5=(factorial(6)/factorial(5))*(p**5)*(q)\n",
    "boy_6=p**6\n",
    "print(round(boy_3+boy_4+boy_5+boy_6,3))"
   ]
  },
  {
   "cell_type": "markdown",
   "metadata": {},
   "source": [
    "Task_8:Question_2: Binomial Distribution II\n",
    "\n",
    "A manufacturer of metal pistons finds that,12% on average, of the pistons they manufacture are rejected because they are incorrectly sized. What is the probability that a batch of 10 pistons will contain:\n",
    "\n",
    "1. No more than 2 rejects?\n",
    "2. At least 2 rejects?\n",
    "\n",
    "https://www.hackerrank.com/challenges/s10-binomial-distribution-2"
   ]
  },
  {
   "cell_type": "code",
   "execution_count": 2,
   "metadata": {},
   "outputs": [
    {
     "name": "stdout",
     "output_type": "stream",
     "text": [
      "0.891\n",
      "0.342\n"
     ]
    }
   ],
   "source": [
    "from math import factorial\n",
    "p=12/100\n",
    "q=1-p\n",
    "p0=q**10\n",
    "p1=10*(p*(q**9))\n",
    "p2=(factorial(10)/(factorial(8)*factorial(2)))*((p**2)*(q**8))\n",
    "print(round(p0+p1+p2,3))\n",
    "print(round(1-(p0+p1),3))"
   ]
  },
  {
   "cell_type": "markdown",
   "metadata": {},
   "source": [
    "Task_8:Question_3: Normal Distribution I\n",
    "\n",
    "In a certain plant, the time taken to assemble a car is a random variable, X, having a normal distribution with a mean of 20 hours and a standard deviation of 2 hours. What is the probability that a car can be assembled at this plant in:\n",
    "\n",
    "1. Less than  19.5 hours?\n",
    "2. Between 20 and 22 hours?\n",
    "\n",
    "https://www.hackerrank.com/challenges/s10-normal-distribution-1"
   ]
  },
  {
   "cell_type": "code",
   "execution_count": 3,
   "metadata": {},
   "outputs": [
    {
     "name": "stdout",
     "output_type": "stream",
     "text": [
      "0.401\n",
      "0.341\n"
     ]
    }
   ],
   "source": [
    "import math\n",
    "mean=20\n",
    "std=2\n",
    "x=19.5\n",
    "print(round(0.5*(1+math.erf((x-mean)/(std*(math.sqrt(2))))),3))\n",
    "p20=0.5*(1+math.erf((20-mean)/(std*(math.sqrt(2)))))\n",
    "p22=0.5*(1+math.erf((22-mean)/(std*(math.sqrt(2)))))\n",
    "print(round(p22-p20,3))"
   ]
  },
  {
   "cell_type": "markdown",
   "metadata": {},
   "source": [
    "Task_8:Question_4: Normal Distribution II\n",
    "\n",
    "https://www.hackerrank.com/challenges/s10-normal-distribution-2/problem"
   ]
  },
  {
   "cell_type": "code",
   "execution_count": 4,
   "metadata": {},
   "outputs": [
    {
     "name": "stdout",
     "output_type": "stream",
     "text": [
      "15.87\n",
      "84.13\n",
      "15.87\n"
     ]
    }
   ],
   "source": [
    "import math\n",
    "mean=70\n",
    "std=10\n",
    "p80=1-(0.5*(1+math.erf((80-mean)/(std*math.sqrt(2)))))\n",
    "print(round(100*p80,2))\n",
    "p60=0.5*(1+math.erf((60-mean)/(std*math.sqrt(2))))\n",
    "print(round((100*(1-p60)),2))\n",
    "print(round(100*p60,2))"
   ]
  },
  {
   "cell_type": "markdown",
   "metadata": {},
   "source": [
    "Task_8:Question_5: The Central Limit Theorem I\n",
    "\n",
    "A large elevator can transport a maximum of 9800 pounds. Suppose a load of cargo containing 49 boxes must be transported via the elevator. The box weight of this type of cargo follows a distribution with a mean of 205 pounds and a standard deviation of 15 pounds. Based on this information, what is the probability that all 49 boxes can be safely loaded into the freight elevator and transported?\n",
    "\n",
    "https://www.hackerrank.com/challenges/s10-the-central-limit-theorem-1"
   ]
  },
  {
   "cell_type": "code",
   "execution_count": 5,
   "metadata": {},
   "outputs": [
    {
     "name": "stdout",
     "output_type": "stream",
     "text": [
      "0.0098\n"
     ]
    }
   ],
   "source": [
    "import math\n",
    "mean=205\n",
    "std=15\n",
    "n=49\n",
    "new_mean=205*49\n",
    "new_std=(49**0.5)*15\n",
    "p=0.5*(1+math.erf((9800-new_mean)/(math.sqrt(2)*new_std)))\n",
    "print(round(p,4))"
   ]
  },
  {
   "cell_type": "markdown",
   "metadata": {},
   "source": [
    "Task_8:Question_6: The Central Limit Theorem II\n",
    "\n",
    "The number of tickets purchased by each student for the University X vs. University Y football game follows a distribution that has a mean of 2.4 and a standard deviation of 2.0.\n",
    "\n",
    "A few hours before the game starts,100 eager students line up to purchase last-minute tickets. If there are only 250 tickets left, what is the probability that all 100 students will be able to purchase tickets?\n",
    "\n",
    "https://www.hackerrank.com/challenges/s10-the-central-limit-theorem-2"
   ]
  },
  {
   "cell_type": "code",
   "execution_count": 6,
   "metadata": {},
   "outputs": [
    {
     "name": "stdout",
     "output_type": "stream",
     "text": [
      "0.6915\n"
     ]
    }
   ],
   "source": [
    "import math\n",
    "mean=2.4\n",
    "std=2.0\n",
    "n=100\n",
    "new_mean=2.4*100\n",
    "new_std=2.0*(math.sqrt(100))\n",
    "p=0.5*(1+math.erf((250-new_mean)/(math.sqrt(2)*new_std)))\n",
    "print(round(p,4))"
   ]
  },
  {
   "cell_type": "markdown",
   "metadata": {},
   "source": [
    "Task_8:Question_7: The Central Limit Theorem III\n",
    "\n",
    "You have a sample of 100 values from a population with mean 500 and with standard deviation 80. Compute the interval that covers the middle 95% of the distribution of the sample mean; in other words, compute A and Bsuch that P(A<X<B)=0.95. Use the value of z=1.96 Note that zis the z-score.\n",
    "\n",
    "https://www.hackerrank.com/challenges/s10-the-central-limit-theorem-3"
   ]
  },
  {
   "cell_type": "code",
   "execution_count": 7,
   "metadata": {},
   "outputs": [
    {
     "name": "stdout",
     "output_type": "stream",
     "text": [
      "484.32\n",
      "515.68\n"
     ]
    }
   ],
   "source": [
    "import math\n",
    "mean=500\n",
    "std=80\n",
    "A=mean-(1.96*(std/(math.sqrt(100))))\n",
    "B=mean+(1.96*(std/(math.sqrt(100))))\n",
    "print(round(A,2))\n",
    "print(round(B,2))"
   ]
  },
  {
   "cell_type": "markdown",
   "metadata": {},
   "source": [
    "Task_8:Question_8: \n",
    "\n",
    "Given two n-element data sets,X andY , calculate the value of the Pearson correlation coefficient.\n",
    "\n",
    "https://www.hackerrank.com/challenges/s10-pearson-correlation-coefficient"
   ]
  },
  {
   "cell_type": "code",
   "execution_count": 8,
   "metadata": {},
   "outputs": [
    {
     "name": "stdout",
     "output_type": "stream",
     "text": [
      "10\n",
      "10 9.8 8 7.8 7.7 7 6 5 4 2\n",
      "200 44 32 24 22 17 15 12 8 4\n",
      "0.612\n"
     ]
    }
   ],
   "source": [
    "import math\n",
    "n=int(input())\n",
    "A=list(map(float,input().split()))\n",
    "B=list(map(float,input().split()))\n",
    "mean_A=sum(A)/len(A)\n",
    "mean_B=sum(B)/len(B)\n",
    "sum_A_B=0\n",
    "std_A=0\n",
    "std_B=0\n",
    "for i in range(10):\n",
    "    sum_A_B+=((A[i]-mean_A)*(B[i]-mean_B))\n",
    "    std_A+=((A[i]-mean_A)**2)\n",
    "    std_B+=((B[i]-mean_B)**2)\n",
    "std_A/=n\n",
    "std_B/=n\n",
    "std_A=math.sqrt(std_A)\n",
    "std_B=math.sqrt(std_B)\n",
    "sum_A_B/=n\n",
    "pear=sum_A_B/(std_A*std_B)\n",
    "print(round(pear,3))"
   ]
  },
  {
   "cell_type": "markdown",
   "metadata": {},
   "source": [
    "Task_8:Question_9: Least Square Regression Line\n",
    "\n",
    "https://www.hackerrank.com/challenges/s10-least-square-regression-line/problem"
   ]
  },
  {
   "cell_type": "code",
   "execution_count": 9,
   "metadata": {},
   "outputs": [
    {
     "name": "stdout",
     "output_type": "stream",
     "text": [
      "78.288\n"
     ]
    }
   ],
   "source": [
    "import math\n",
    "n=5\n",
    "A=[95,85,80,70,60]\n",
    "B=[85,95,70,65,70]\n",
    "mean_A=sum(A)/len(A)\n",
    "mean_B=sum(B)/len(B)\n",
    "sum_A_B=0\n",
    "std_A=0\n",
    "std_B=0\n",
    "for i in range(5):\n",
    "    sum_A_B+=((A[i]-mean_A)*(B[i]-mean_B))\n",
    "    std_A+=((A[i]-mean_A)**2)\n",
    "    std_B+=((B[i]-mean_B)**2)\n",
    "std_A/=n\n",
    "std_B/=n\n",
    "std_A=math.sqrt(std_A)\n",
    "std_B=math.sqrt(std_B)\n",
    "sum_A_B/=n\n",
    "pear=sum_A_B/(std_A*std_B)\n",
    "b=pear*(std_B/std_A)\n",
    "a=mean_B-(b*mean_A)\n",
    "y80=a+(b*80)\n",
    "print(round(y80,3))"
   ]
  },
  {
   "cell_type": "markdown",
   "metadata": {},
   "source": [
    "Task_8:Question_10:  Multiple Linear Regression\n",
    "\n",
    "https://www.hackerrank.com/challenges/s10-multiple-linear-regression"
   ]
  },
  {
   "cell_type": "code",
   "execution_count": 10,
   "metadata": {},
   "outputs": [
    {
     "name": "stdout",
     "output_type": "stream",
     "text": [
      "2 7\n",
      "0.18 0.89 109.85\n",
      "1.0 0.26 155.72\n",
      "0.92 0.11 137.66\n",
      "0.07 0.37 76.17\n",
      "0.85 0.16 139.75\n",
      "0.99 0.41 162.6\n",
      "0.87 0.47 151.77\n",
      "4\n",
      "0.49 0.18\n",
      "105.21455835106946\n",
      "0.57 0.83\n",
      "142.67095130729922\n",
      "0.56 0.64\n",
      "132.93605469124694\n",
      "0.76 0.18\n",
      "129.70175404502453\n"
     ]
    }
   ],
   "source": [
    "from sklearn import linear_model\n",
    "m,n=list(map(int,input().split()))\n",
    "x=[]\n",
    "y=[]\n",
    "for i in range(n):\n",
    "    l=list(map(float,input().split()))\n",
    "    x.append(l[:-1])\n",
    "    y.append(l[-1])\n",
    "lr=linear_model.LinearRegression()\n",
    "lr.fit(x,y)\n",
    "a=lr.intercept_\n",
    "b=lr.coef_\n",
    "q=int(input().strip())\n",
    "for i in range(q):\n",
    "    t=list(map(float,input().split()))\n",
    "    res=a\n",
    "    for j in range(m):\n",
    "        res+=(b[j]*t[j])\n",
    "    print(res)"
   ]
  }
 ],
 "metadata": {
  "kernelspec": {
   "display_name": "Python 3",
   "language": "python",
   "name": "python3"
  },
  "language_info": {
   "codemirror_mode": {
    "name": "ipython",
    "version": 3
   },
   "file_extension": ".py",
   "mimetype": "text/x-python",
   "name": "python",
   "nbconvert_exporter": "python",
   "pygments_lexer": "ipython3",
   "version": "3.8.5"
  },
  "toc": {
   "base_numbering": 1,
   "nav_menu": {},
   "number_sections": true,
   "sideBar": true,
   "skip_h1_title": false,
   "title_cell": "Table of Contents",
   "title_sidebar": "Contents",
   "toc_cell": false,
   "toc_position": {},
   "toc_section_display": true,
   "toc_window_display": false
  }
 },
 "nbformat": 4,
 "nbformat_minor": 4
}
