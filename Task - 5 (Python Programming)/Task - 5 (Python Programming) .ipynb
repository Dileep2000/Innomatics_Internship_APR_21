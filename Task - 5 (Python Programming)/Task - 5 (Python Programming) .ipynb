{
 "cells": [
  {
   "cell_type": "markdown",
   "metadata": {},
   "source": [
    "Task_5:Question_1: Detect Floating Point Number\n",
    "\n",
    "You are given a string N.\n",
    "Your task is to verify that N is a floating point number. "
   ]
  },
  {
   "cell_type": "code",
   "execution_count": 1,
   "metadata": {},
   "outputs": [
    {
     "name": "stdout",
     "output_type": "stream",
     "text": [
      "1\n",
      "1.004\n",
      "True\n"
     ]
    }
   ],
   "source": [
    "import re\n",
    "t=int(input())\n",
    "for i in range(t):\n",
    "    n=input()\n",
    "    print(bool(re.search(r'^[+-]?[0-9]*\\.[0-9]+$',n)))"
   ]
  },
  {
   "cell_type": "markdown",
   "metadata": {},
   "source": [
    "Task_5:Question_2: Re.split()\n",
    "\n",
    "You are given a string s consisting only of digits 0-9, commas ,, and dots.\n",
    "\n",
    "Your task is to complete the regex_pattern defined below, which will be used to re.split() all of the , and . symbols in s.\n",
    "\n",
    "It’s guaranteed that every comma and every dot in s is preceeded and followed by a digit."
   ]
  },
  {
   "cell_type": "code",
   "execution_count": 2,
   "metadata": {},
   "outputs": [
    {
     "name": "stdout",
     "output_type": "stream",
     "text": [
      "100,000,000.000\n",
      "100\n",
      "000\n",
      "000\n",
      "000\n"
     ]
    }
   ],
   "source": [
    "regex_pattern = r\"[\\.\\,]\"\n",
    "print(\"\\n\".join(re.split(regex_pattern, input())))"
   ]
  },
  {
   "cell_type": "markdown",
   "metadata": {},
   "source": [
    "Task_5:Question_3: Group(), Groups() & Groupdict()\n",
    "\n",
    "You are given a string S.\n",
    "\n",
    "Your task is to find the first occurrence of an alphanumeric character in S(read from left to right) that has consecutive repetitions."
   ]
  },
  {
   "cell_type": "code",
   "execution_count": 3,
   "metadata": {},
   "outputs": [
    {
     "name": "stdout",
     "output_type": "stream",
     "text": [
      "Dileep12311\n",
      "e\n"
     ]
    }
   ],
   "source": [
    "import re\n",
    "s=input().strip()\n",
    "r=re.search(r'([0-9a-zA-Z])((.*\\1\\1)|(\\1))',s)\n",
    "if r!=None:\n",
    "    print(r.group(1))\n",
    "else:\n",
    "    print(-1)"
   ]
  },
  {
   "cell_type": "markdown",
   "metadata": {},
   "source": [
    "Task_5:Question_4: Re.findall() & Re.finditer()\n",
    "\n",
    "You are given a string S. It consists of alphanumeric characters, spaces and symbols(+,-).\n",
    "\n",
    "Your task is to find all the substrings of S that contains 2 or more vowels.\n",
    "\n",
    "Also, these substrings must lie in between 2 consonants and should contain vowels only."
   ]
  },
  {
   "cell_type": "code",
   "execution_count": 4,
   "metadata": {},
   "outputs": [
    {
     "name": "stdout",
     "output_type": "stream",
     "text": [
      "rabcdeefgyYhFjkIoomnpOeorteeeeet\n",
      "ee\n",
      "Ioo\n",
      "Oeo\n",
      "eeeee\n"
     ]
    }
   ],
   "source": [
    "import re\n",
    "s=input().strip()\n",
    "r=re.findall(r'[^AEIOOUaeiou +\\-]([AEIOUaeiou]{2,})(?=[^AEIOUaeiou +\\-])',s)\n",
    "found=0\n",
    "for i in r:\n",
    "    print(i)\n",
    "    found=1\n",
    "if found==0:\n",
    "    print(-1)"
   ]
  },
  {
   "cell_type": "markdown",
   "metadata": {},
   "source": [
    "Task_5:Question_5: Re.start() & Re.end()\n",
    "\n",
    "You are given a string S.\n",
    "\n",
    "Your task is to find the indices of the start and end of string K in S."
   ]
  },
  {
   "cell_type": "code",
   "execution_count": 5,
   "metadata": {},
   "outputs": [
    {
     "name": "stdout",
     "output_type": "stream",
     "text": [
      "aaadaa\n",
      "aa\n",
      "(0, 1)\n",
      "(1, 2)\n",
      "(4, 5)\n"
     ]
    }
   ],
   "source": [
    "import re\n",
    "s=input().strip()\n",
    "k=input().strip()\n",
    "r=re.finditer(r'(?='+k+')',s)\n",
    "found=0\n",
    "for i in r:\n",
    "    print('({0}, {1})'.format(i.start(),i.start()+len(k)-1))\n",
    "    found=1\n",
    "if found==0:\n",
    "    print('(-1, -1)')"
   ]
  },
  {
   "cell_type": "markdown",
   "metadata": {},
   "source": [
    "Task_5:Question_6: Regex Substitution\n",
    "\n",
    "You are given a text of N lines. The text contains && and || symbols.\n",
    "\n",
    "Your task is to modify those symbols to the following:\n",
    "\n",
    "&& → and\n",
    "|| → or\n",
    "\n",
    "Both && and || should have a space \" \" on both sides. "
   ]
  },
  {
   "cell_type": "code",
   "execution_count": 6,
   "metadata": {},
   "outputs": [
    {
     "name": "stdout",
     "output_type": "stream",
     "text": [
      "2\n",
      "if a + b > 0 && a - b < 0:\n",
      "if a + b > 0 and a - b < 0:\n",
      "elif a*b > 10 || a/b < 1:\n",
      "elif a*b > 10 or a/b < 1:\n"
     ]
    }
   ],
   "source": [
    "import re\n",
    "n=int(input())\n",
    "for i in range(n):\n",
    "    s=input()\n",
    "    while ' && ' in s:\n",
    "        s=re.sub(r' && ',' and ',s)\n",
    "    while ' || ' in s:\n",
    "        s=re.sub(' \\|\\| ',' or ',s)\n",
    "    print(s)"
   ]
  },
  {
   "cell_type": "markdown",
   "metadata": {},
   "source": [
    "Task_5:Question_7: Validating Roman Numerals\n",
    "\n",
    "You are given a string, and you have to validate whether it's a valid Roman numeral. If it is valid, print True. Otherwise, print False. Try to create a regular expression for a valid Roman numeral."
   ]
  },
  {
   "cell_type": "code",
   "execution_count": 7,
   "metadata": {},
   "outputs": [
    {
     "name": "stdout",
     "output_type": "stream",
     "text": [
      "CDXXI\n",
      "True\n"
     ]
    }
   ],
   "source": [
    "regex_pattern = r\"^M{0,3}(CM|CD|D?C{0,3})(XC|XL|L?X{0,3})(IX|IV|V?I{0,3})$\"\n",
    "\n",
    "import re\n",
    "print(str(bool(re.match(regex_pattern, input()))))"
   ]
  },
  {
   "cell_type": "markdown",
   "metadata": {},
   "source": [
    "Task_5:Question_8: \n",
    "\n",
    "Let's dive into the interesting topic of regular expressions! You are given some input, and you are required to check whether they are valid mobile numbers.\n",
    "\n",
    "A valid mobile number is a ten digit number starting with a 7 8 or 9. "
   ]
  },
  {
   "cell_type": "code",
   "execution_count": 8,
   "metadata": {},
   "outputs": [
    {
     "name": "stdout",
     "output_type": "stream",
     "text": [
      "2\n",
      "9494444678\n",
      "YES\n",
      "6464444678\n",
      "NO\n"
     ]
    }
   ],
   "source": [
    "import re\n",
    "n=int(input())\n",
    "for i in range(n):\n",
    "    s=input()\n",
    "    r=re.search(r'^[789][0-9]{9}$',s)\n",
    "    if r:\n",
    "        print('YES')\n",
    "    else:\n",
    "        print('NO')"
   ]
  },
  {
   "cell_type": "markdown",
   "metadata": {},
   "source": [
    "Task_5:Question_9: Validating and Parsing Email Addresses\n",
    "\n",
    "Given N pairs of names and email addresses as input, print each name and email address pair having a valid email address on a new line."
   ]
  },
  {
   "cell_type": "code",
   "execution_count": 1,
   "metadata": {},
   "outputs": [
    {
     "name": "stdout",
     "output_type": "stream",
     "text": [
      "2\n",
      "DEXTER <dexter@hotmail.com>\n",
      "DEXTER <dexter@hotmail.com>\n",
      "VIRUS <virus!@variable.:p>\n"
     ]
    }
   ],
   "source": [
    "import re\n",
    "n=int(input())\n",
    "for i in range(n):\n",
    "    s=input()\n",
    "    r=re.match(r'^(.+)<([a-z][\\w\\.\\-]*)+@([a-z]+)\\.([a-z]{1,3})>$',s,re.I)\n",
    "    if r:\n",
    "        print(r.group())"
   ]
  },
  {
   "cell_type": "markdown",
   "metadata": {},
   "source": [
    "Task_5: Question_10: Hex Color Code\n",
    "\n",
    "You are given N lines of CSS code. Your task is to print all valid Hex Color Codes, in order of their occurrence from top to bottom."
   ]
  },
  {
   "cell_type": "code",
   "execution_count": 2,
   "metadata": {},
   "outputs": [
    {
     "name": "stdout",
     "output_type": "stream",
     "text": [
      "5\n",
      "#Cab\n",
      "{\n",
      " background-color: #ABC;\n",
      "border: 2px dashed #fff;\n",
      "}\n",
      "#ABC\n",
      "#fff\n"
     ]
    }
   ],
   "source": [
    "import re\n",
    "n=int(input())\n",
    "s=\"\"\n",
    "for i in range(n):\n",
    "    s+=input()\n",
    "r1=r'\\{(.+?)\\}'\n",
    "r2=r'(#(?:[0-9A-Fa-f]){6}|#(?:[0-9A-Fa-f]){3})'\n",
    "search1=re.findall(r1,s)\n",
    "for x in search1:\n",
    "    search2=re.findall(r2,x)\n",
    "    for y in search2:\n",
    "        print(y)"
   ]
  },
  {
   "cell_type": "markdown",
   "metadata": {},
   "source": [
    "Task_5:Question_11: HTML Parser - Part 1\n",
    "\n",
    "You are given an HTML code snippet of N lines.\n",
    "\n",
    "Your task is to print start tags, end tags and empty tags separately. "
   ]
  },
  {
   "cell_type": "code",
   "execution_count": 3,
   "metadata": {},
   "outputs": [
    {
     "name": "stdout",
     "output_type": "stream",
     "text": [
      "2\n",
      "<html><head><title>HTML Parser - I</title></head>\n",
      "<body data-modal-target class='1'><h1>HackerRank</h1><br /></body></html>\n",
      "Start : html\n",
      "Start : head\n",
      "Start : title\n",
      "End   : title\n",
      "End   : head\n",
      "Start : body\n",
      "-> data-modal-target > None\n",
      "-> class > 1\n",
      "Start : h1\n",
      "End   : h1\n",
      "Empty : br\n",
      "End   : body\n",
      "End   : html\n"
     ]
    }
   ],
   "source": [
    "import re\n",
    "s=\"\".join([input() for i in range(int(input()))])\n",
    "for match in re.finditer(r\"<!--.*?-->|(<.*?>)\",s):\n",
    "    a=match.group(1)\n",
    "    if not a:\n",
    "        continue\n",
    "    b=re.match(r'< *(\\/?) *(\\w+) *(.*?) *(\\/?) *>',a)\n",
    "    if b:\n",
    "        if b.group(1)==\"/\":\n",
    "            print(\"End   : \"+b.group(2))\n",
    "        else:\n",
    "            if b.group(4)==\"/\":\n",
    "              print('Empty : '+b.group(2))\n",
    "            else:\n",
    "                print(\"Start : \"+b.group(2))\n",
    "            for c in re.finditer(r\"([^\\s=]+)(?: *= *['\\\"](.+?)['\\\"])?\",b.group(3)):\n",
    "                if c.group(2):\n",
    "                    print(\"-> %s > %s\"%(c.group(1),c.group(2)))\n",
    "                else:\n",
    "                    print(\"-> %s > None\"%(c.group(1)))"
   ]
  },
  {
   "cell_type": "markdown",
   "metadata": {},
   "source": [
    "Task_5:Question:12 : HTML Parser - Part 2\n",
    "\n",
    "You are given an HTML code snippet of N lines.\n",
    "\n",
    "Your task is to print the single-line comments, multi-line comments and the data. "
   ]
  },
  {
   "cell_type": "code",
   "execution_count": 4,
   "metadata": {},
   "outputs": [
    {
     "name": "stdout",
     "output_type": "stream",
     "text": [
      "4\n",
      "<!--[if IE 9]>IE9-specific content\n",
      "<![endif]-->\n",
      "<div> Welcome to HackerRank</div>\n",
      "<!--[if IE 9]>IE9-specific content<![endif]-->\n",
      ">>> Multi-line Comment\n",
      "[if IE 9]>IE9-specific content\n",
      "<![endif]\n",
      ">>> Data\n",
      " Welcome to HackerRank\n",
      ">>> Single-line Comment\n",
      "[if IE 9]>IE9-specific content<![endif]\n"
     ]
    }
   ],
   "source": [
    "from html.parser import HTMLParser\n",
    "\n",
    "class MyHTMLParser(HTMLParser):\n",
    "    def handle_comment(self, data):\n",
    "        if '\\n' not in data:\n",
    "            print('>>> Single-line Comment')\n",
    "            print(data)\n",
    "        elif '\\n' in data:\n",
    "            print(\">>> Multi-line Comment\")\n",
    "            print(data)\n",
    "    def handle_data(self ,data):\n",
    "        if data != '\\n':\n",
    "            print(\">>> Data\")\n",
    "            print(data)  \n",
    "\n",
    "html = \"\"       \n",
    "for i in range(int(input())):\n",
    "    html += input().rstrip()\n",
    "    html += '\\n'\n",
    "    \n",
    "parser = MyHTMLParser()\n",
    "parser.feed(html)\n",
    "parser.close()"
   ]
  },
  {
   "cell_type": "markdown",
   "metadata": {},
   "source": [
    "Task_5:Question:13: Detect HTML Tags, Attributes and Attribute Values\n",
    "\n",
    "You are given an HTML code snippet of N lines.\n",
    "\n",
    "Your task is to detect and print all the HTML tags, attributes and attribute values."
   ]
  },
  {
   "cell_type": "code",
   "execution_count": 5,
   "metadata": {},
   "outputs": [
    {
     "name": "stdout",
     "output_type": "stream",
     "text": [
      "9\n",
      "<head>\n",
      "head\n",
      "<title>HTML</title>\n",
      "title\n",
      "</head>\n",
      "<object type=\"application/x-flash\"\n",
      "data=\"your-file.swf\"\n",
      "width=\"0\" height=\"0\">\n",
      "object\n",
      "-> type > application/x-flash\n",
      "-> data > your-file.swf\n",
      "-> width > 0\n",
      "-> height > 0\n",
      "<!-- <param name=\"movie\" value=\"your-file.swf\" /> -->\n",
      "<param name=\"quality\" value=\"high\"/>\n",
      "param\n",
      "-> name > quality\n",
      "-> value > high\n",
      "</object>\n"
     ]
    }
   ],
   "source": [
    "from html.parser import HTMLParser\n",
    "class parser(HTMLParser):\n",
    "    def handle_starttag(self, tag, attrs):\n",
    "        print(tag)\n",
    "        for attr,value in attrs:\n",
    "            print(\"->\", attr, \">\", value)\n",
    "pars=parser()\n",
    "for i in range(int(input())):\n",
    "    pars.feed(input())\n",
    "pars.close()"
   ]
  },
  {
   "cell_type": "markdown",
   "metadata": {},
   "source": [
    "Task_5:Question:14: Validating UID\n",
    "\n",
    "A valid UID must follow the rules below:\n",
    "\n",
    "It must contain at least 2 uppercase English alphabet characters.\n",
    "\n",
    "It must contain at least 3 digits (0-9).\n",
    "\n",
    "It should only contain alphanumeric characters (a-z , A-Z & 0-9).\n",
    "\n",
    "No character should repeat.\n",
    "\n",
    "There must be exactly 10 characters in a valid UID."
   ]
  },
  {
   "cell_type": "code",
   "execution_count": 6,
   "metadata": {},
   "outputs": [
    {
     "name": "stdout",
     "output_type": "stream",
     "text": [
      "2\n",
      "B1CD102354\n",
      "Invalid\n",
      "B1CDEF2354\n",
      "Valid\n"
     ]
    }
   ],
   "source": [
    "import re\n",
    "n=int(input())\n",
    "for i in range(n):\n",
    "    s=input().strip()\n",
    "    if len(s)==10:\n",
    "        if s.isalnum():\n",
    "            if not bool(re.search(r'(.*[A-Z]){2,}',s)):\n",
    "                print(\"Invalid\")\n",
    "            else:\n",
    "                if not bool(re.search(r'(.*[0-9]){3,}',s)):\n",
    "                    print(\"Invalid\")\n",
    "                else:\n",
    "                    if bool(re.search(r'.*(.).*\\1+.*',s)):\n",
    "                        print(\"Invalid\")\n",
    "                    else:\n",
    "                        print(\"Valid\")\n",
    "        else:\n",
    "            print(\"Invalid\")\n",
    "    else:\n",
    "        print(\"Invalid\")                           "
   ]
  },
  {
   "cell_type": "markdown",
   "metadata": {},
   "source": [
    "Task_5:Question_15: Validating Credit Card Numbers\n",
    "\n",
    "A valid credit card from ABCD Bank has the following characteristics:\n",
    "\n",
    "► It must start with a 4, 5 or 6.\n",
    "\n",
    "► It must contain exactly 16 digits.\n",
    "\n",
    "► It must only consist of digits (0-9).\n",
    "\n",
    "► It may have digits in groups of 4, separated by one hyphen \"-\".\n",
    "\n",
    "► It must NOT use any other separator like ' ' , '_', etc.\n",
    "\n",
    "► It must NOT have 4 or more consecutive repeated digits. "
   ]
  },
  {
   "cell_type": "code",
   "execution_count": 7,
   "metadata": {},
   "outputs": [
    {
     "name": "stdout",
     "output_type": "stream",
     "text": [
      "3\n",
      "4123456789123456\n",
      "Valid\n",
      "5133-3367-8912-3456\n",
      "Invalid\n",
      "5123-4567-8912-3456\n",
      "Valid\n"
     ]
    }
   ],
   "source": [
    "import re \n",
    "n=int(input())\n",
    "for i in range(n):\n",
    "    s=input().strip()\n",
    "    if s.count(\"-\")>0:\n",
    "        l=s.split(\"-\")\n",
    "        p=0\n",
    "        if len(l)!=4:\n",
    "            p=None\n",
    "            l=[]\n",
    "        for b in l:\n",
    "            if len(b)!=4:\n",
    "                p=None\n",
    "                break\n",
    "    else:\n",
    "        p=re.search(r'[456][0-9]{15}',s)\n",
    "    s=s.replace(\"-\",\"\")\n",
    "    q=re.search(r'.*([0-9])\\1{3,}.*',s)\n",
    "    if p!=None and q==None:\n",
    "        print(\"Valid\")\n",
    "    else:\n",
    "        print(\"Invalid\")"
   ]
  },
  {
   "cell_type": "markdown",
   "metadata": {},
   "source": [
    "Task_5:Question_16: Validating Postal Codes\n",
    "\n",
    "A valid postal code P have to fullfil both below requirements:\n",
    "\n",
    "P must be a number in the range from 100000 to 999999 inclusive.\n",
    "\n",
    "P  must not contain more than one alternating repetitive digit pair.\n",
    "\n",
    "Alternating repetitive digits are digits which repeat immediately after the next digit. In other words, an alternating repetitive digit pair is formed by two equal digits that have just a single digit between them. "
   ]
  },
  {
   "cell_type": "code",
   "execution_count": 8,
   "metadata": {},
   "outputs": [
    {
     "name": "stdout",
     "output_type": "stream",
     "text": [
      "110000\n",
      "False\n"
     ]
    }
   ],
   "source": [
    "regex_integer_in_range = r\"^[1-9][0-9](5)$\"\n",
    "regex_alternating_repetitive_digit_pair = r\"(?=(\\d)\\d\\1)\"\n",
    "import re\n",
    "P = input()\n",
    "\n",
    "print (bool(re.match(regex_integer_in_range, P))and len(re.findall(regex_alternating_repetitive_digit_pair, P)) < 2)"
   ]
  },
  {
   "cell_type": "markdown",
   "metadata": {},
   "source": [
    "Task_5:Question_17: Matrix Script\n",
    "\n",
    "Neo has a complex matrix script. The matrix script is a NXM grid of strings. It consists of alphanumeric characters, spaces and symbols (!,@,#,$,%,&).\n",
    "\n",
    "To decode the script, Neo needs to read each column and select only the alphanumeric characters and connect them. Neo reads the column from top to bottom and starts reading from the leftmost column.\n",
    "\n",
    "If there are symbols or spaces between two alphanumeric characters of the decoded script, then Neo replaces them with a single space '' for better readability.\n",
    "\n",
    "Neo feels that there is no need to use 'if' conditions for decoding.\n",
    "\n",
    "Alphanumeric characters consist of: [A-Z, a-z, and 0-9]."
   ]
  },
  {
   "cell_type": "code",
   "execution_count": 9,
   "metadata": {},
   "outputs": [
    {
     "name": "stdout",
     "output_type": "stream",
     "text": [
      "7 3\n",
      "Tsi\n",
      "h%x\n",
      "i #\n",
      "sM\n",
      "$a\n",
      "#t%\n",
      "ir!\n",
      "This is Matr\n"
     ]
    }
   ],
   "source": [
    "import re\n",
    "first_multiple_input = input().rstrip().split()\n",
    "n = int(first_multiple_input[0])\n",
    "m = int(first_multiple_input[1])\n",
    "matrix = []\n",
    "for _ in range(n):\n",
    "    matrix_item = input()\n",
    "    matrix.append(matrix_item)\n",
    "s=\"\".join(\"\".join(d) for d in zip(*matrix))\n",
    "s=re.sub(r'(?<=[A-Za-z0-9])([^a-zA-z0-9]+)(?=[A-Za-z0-9])',' ',s)\n",
    "print(s)"
   ]
  }
 ],
 "metadata": {
  "kernelspec": {
   "display_name": "Python 3",
   "language": "python",
   "name": "python3"
  },
  "language_info": {
   "codemirror_mode": {
    "name": "ipython",
    "version": 3
   },
   "file_extension": ".py",
   "mimetype": "text/x-python",
   "name": "python",
   "nbconvert_exporter": "python",
   "pygments_lexer": "ipython3",
   "version": "3.8.5"
  },
  "toc": {
   "base_numbering": 1,
   "nav_menu": {},
   "number_sections": true,
   "sideBar": true,
   "skip_h1_title": false,
   "title_cell": "Table of Contents",
   "title_sidebar": "Contents",
   "toc_cell": false,
   "toc_position": {},
   "toc_section_display": true,
   "toc_window_display": false
  }
 },
 "nbformat": 4,
 "nbformat_minor": 4
}
