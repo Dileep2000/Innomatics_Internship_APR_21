{
 "cells": [
  {
   "cell_type": "markdown",
   "metadata": {},
   "source": [
    "Task_6:Question_1: Arrays\n",
    "\n",
    "You are given a space separated list of numbers.\n",
    "\n",
    "Your task is to print a reversed NumPy array with the element type float."
   ]
  },
  {
   "cell_type": "code",
   "execution_count": 1,
   "metadata": {},
   "outputs": [
    {
     "name": "stdout",
     "output_type": "stream",
     "text": [
      "1 2 3 4 5 6 7 8 9 10\n",
      "[10.  9.  8.  7.  6.  5.  4.  3.  2.  1.]\n"
     ]
    }
   ],
   "source": [
    "import numpy\n",
    "\n",
    "def arrays(arr):\n",
    "    return numpy.array(arr[::-1],float)\n",
    "arr = input().strip().split(' ')\n",
    "result = arrays(arr)\n",
    "print(result)"
   ]
  },
  {
   "cell_type": "markdown",
   "metadata": {},
   "source": [
    "Task_6:Question_2: Shape and Reshape\n",
    "\n",
    "You are given a space separated list of nine integers. Your task is to convert this list into a 3X3 NumPy array."
   ]
  },
  {
   "cell_type": "code",
   "execution_count": 2,
   "metadata": {},
   "outputs": [
    {
     "name": "stdout",
     "output_type": "stream",
     "text": [
      "1 2 3 4 5 6 7 8 9\n",
      "[[1 2 3]\n",
      " [4 5 6]\n",
      " [7 8 9]]\n"
     ]
    }
   ],
   "source": [
    "import numpy as np\n",
    "arr=np.array(list(map(int,input().split(\" \"))))\n",
    "print(arr.reshape(3,3))"
   ]
  },
  {
   "cell_type": "markdown",
   "metadata": {},
   "source": [
    "Task_6:Question_3: Transpose and Flatten\n",
    "\n",
    "U are given a NXM integer array matrix with space separated elements (N = rows and M = columns).\n",
    "\n",
    "Your task is to print the transpose and flatten results."
   ]
  },
  {
   "cell_type": "code",
   "execution_count": 3,
   "metadata": {},
   "outputs": [
    {
     "name": "stdout",
     "output_type": "stream",
     "text": [
      "2 2\n",
      "1 2\n",
      "3 4\n",
      "[[1 3]\n",
      " [2 4]]\n",
      "[1 2 3 4]\n"
     ]
    }
   ],
   "source": [
    "import numpy as np\n",
    "n,m=list(map(int,input().split()))\n",
    "l=[]\n",
    "for i in range(n):\n",
    "    l.append(list(map(int,input().split())))\n",
    "arr=np.array(l)\n",
    "print(arr.transpose())\n",
    "print(arr.flatten())"
   ]
  },
  {
   "cell_type": "markdown",
   "metadata": {},
   "source": [
    "Task_6:Question_4: Concatenate\n",
    "\n",
    "You are given two integer arrays of size NXP and PXM ( N&M are rows, and P is the column). \n",
    "\n",
    "Your task is to concatenate the arrays along axis 0."
   ]
  },
  {
   "cell_type": "code",
   "execution_count": 4,
   "metadata": {},
   "outputs": [
    {
     "name": "stdout",
     "output_type": "stream",
     "text": [
      "4 3 2\n",
      "1 2\n",
      "1 2\n",
      "1 2\n",
      "3 4\n",
      "3 4\n",
      "3 4\n",
      "3 4\n",
      "[[1 2]\n",
      " [1 2]\n",
      " [1 2]\n",
      " [3 4]\n",
      " [3 4]\n",
      " [3 4]\n",
      " [3 4]]\n"
     ]
    }
   ],
   "source": [
    "import numpy as np\n",
    "n,m,p=list(map(int,input().split(\" \")))\n",
    "l=[]\n",
    "k=[]\n",
    "for i in range(n):\n",
    "    l.append(list(map(int,input().split(\" \"))))\n",
    "for i in range(m):\n",
    "    k.append(list(map(int,input().split(\" \"))))\n",
    "arr1=np.array(l)\n",
    "arr2=np.array(k)\n",
    "print(np.concatenate((arr1,arr2),axis=0))"
   ]
  },
  {
   "cell_type": "markdown",
   "metadata": {},
   "source": [
    "Task_6:Question_5 : Zeros and Ones\n",
    "\n",
    "You are given the shape of the array in the form of space-separated integers, each integer representing the size of different dimensions, your task is to print an array of the given shape and integer type using the tools numpy.zeros and numpy.one"
   ]
  },
  {
   "cell_type": "code",
   "execution_count": 5,
   "metadata": {},
   "outputs": [
    {
     "name": "stdout",
     "output_type": "stream",
     "text": [
      "3 3\n",
      "[[0 0 0]\n",
      " [0 0 0]\n",
      " [0 0 0]]\n",
      "[[1 1 1]\n",
      " [1 1 1]\n",
      " [1 1 1]]\n"
     ]
    }
   ],
   "source": [
    "import numpy as np\n",
    "l=tuple(map(int,input().split(\" \")))\n",
    "print(np.zeros(l,dtype=np.int))\n",
    "print(np.ones(l,dtype=np.int))"
   ]
  },
  {
   "cell_type": "markdown",
   "metadata": {},
   "source": [
    "Task_6:Question_6: Eye and Identity\n",
    "\n",
    "our task is to print an array of size NXM with its main diagonal elements as 1's and 0's everywhere else."
   ]
  },
  {
   "cell_type": "code",
   "execution_count": 6,
   "metadata": {},
   "outputs": [
    {
     "name": "stdout",
     "output_type": "stream",
     "text": [
      "3 3\n",
      "[[ 1.  0.  0.]\n",
      " [ 0.  1.  0.]\n",
      " [ 0.  0.  1.]]\n"
     ]
    }
   ],
   "source": [
    "import numpy as np\n",
    "np.set_printoptions(legacy='1.13')\n",
    "n,m=list(map(int,input().split(\" \")))\n",
    "print(np.eye(n,m,k=0))"
   ]
  },
  {
   "cell_type": "markdown",
   "metadata": {},
   "source": [
    "Task_6:Question_7: Array Mathematics\n",
    "\n",
    "You are given two integer arrays, A and B of dimensions NXM.\n",
    "Your task is to perform the following operations:\n",
    "\n",
    "Add (A+B)\n",
    "\n",
    "Subtract (A-B)\n",
    "\n",
    "Multiply (A*B)\n",
    "\n",
    "Integer Division (A/B)\n",
    "\n",
    "Mod (A%B)\n",
    "\n",
    "Power (A** B)"
   ]
  },
  {
   "cell_type": "code",
   "execution_count": 7,
   "metadata": {},
   "outputs": [
    {
     "name": "stdout",
     "output_type": "stream",
     "text": [
      "1 4\n",
      "1 2 3 4\n",
      "5 6 7 8\n",
      "[[ 6  8 10 12]]\n",
      "[[-4 -4 -4 -4]]\n",
      "[[ 5 12 21 32]]\n",
      "[[0 0 0 0]]\n",
      "[[1 2 3 4]]\n",
      "[[    1    64  2187 65536]]\n"
     ]
    }
   ],
   "source": [
    "import numpy as np\n",
    "n,m=list(map(int,input().split(\" \")))\n",
    "l1=[]\n",
    "l2=[]\n",
    "for i in range(n):\n",
    "    l1.append(list(map(int,input().split(\" \"))))\n",
    "for i in range(n):\n",
    "    l2.append(list(map(int,input().split(\" \"))))\n",
    "A=np.array(l1)\n",
    "B=np.array(l2)\n",
    "print(A+B)\n",
    "print(A-B)\n",
    "print(A*B)\n",
    "print(A//B)\n",
    "print(A%B)\n",
    "print(A**B)"
   ]
  },
  {
   "cell_type": "markdown",
   "metadata": {},
   "source": [
    "Task_6:Question_8: Floor, Ceil and Rint\n",
    "\n",
    " Given a 1-D array, A. Your task is to print the Floor, Ceil and Rint of all the elements of A. "
   ]
  },
  {
   "cell_type": "code",
   "execution_count": 8,
   "metadata": {},
   "outputs": [
    {
     "name": "stdout",
     "output_type": "stream",
     "text": [
      "1.1 2.2 3.3 4.4 5.5 6.6 7.7 8.8 9.9\n",
      "[ 1.  2.  3.  4.  5.  6.  7.  8.  9.]\n",
      "[  2.   3.   4.   5.   6.   7.   8.   9.  10.]\n",
      "[  1.   2.   3.   4.   6.   7.   8.   9.  10.]\n"
     ]
    }
   ],
   "source": [
    "import numpy as np\n",
    "np.set_printoptions(legacy='1.13')\n",
    "A=np.array(list(map(float,input().split())))\n",
    "print(np.floor(A))\n",
    "print(np.ceil(A))\n",
    "print(np.rint(A))"
   ]
  },
  {
   "cell_type": "markdown",
   "metadata": {},
   "source": [
    "Task_6:Question_9: Sum and Prod\n",
    "\n",
    "ou are given a 2-D array with dimensions NXM.\n",
    "\n",
    "Your task is to perform the sum tool over axis 0 and then find the product of that result."
   ]
  },
  {
   "cell_type": "code",
   "execution_count": 9,
   "metadata": {},
   "outputs": [
    {
     "name": "stdout",
     "output_type": "stream",
     "text": [
      "2 2\n",
      "1 2\n",
      "3 4\n",
      "24\n"
     ]
    }
   ],
   "source": [
    "import numpy as np\n",
    "n,m=list(map(int,input().split(\" \")))\n",
    "l=[]\n",
    "for i in range(n):\n",
    "    l.append(list(map(int,input().split(\" \"))))\n",
    "arr=np.array(l)\n",
    "sum0=np.sum(arr,axis=0)\n",
    "print(np.prod(sum0))"
   ]
  },
  {
   "cell_type": "markdown",
   "metadata": {},
   "source": [
    "Task_6:Question_10: Min and Max\n",
    "\n",
    "You are given a 2-D array with dimensions NXM.\n",
    "\n",
    "Your task is to perform the min function over axis 1 and then find the max of that."
   ]
  },
  {
   "cell_type": "code",
   "execution_count": 10,
   "metadata": {},
   "outputs": [
    {
     "name": "stdout",
     "output_type": "stream",
     "text": [
      "4 2\n",
      "2 5\n",
      "3 7\n",
      "1 3\n",
      "4 0\n",
      "3\n"
     ]
    }
   ],
   "source": [
    "import numpy as np\n",
    "n,m=list(map(int,input().split(\" \")))\n",
    "l=[]\n",
    "for i in range(n):\n",
    "    l.append(list(map(int,input().split(\" \"))))\n",
    "arr=np.array(l)\n",
    "print(np.max(np.min(arr,axis=1)))"
   ]
  },
  {
   "cell_type": "markdown",
   "metadata": {},
   "source": [
    "Task_6:Question_11: Mean, Var, and Std\n",
    "\n",
    "You are given a 2-D array of size NXM.\n",
    "\n",
    "Your task is to find:\n",
    "\n",
    "The mean along axis 1\n",
    "\n",
    "The var along axis 0\n",
    "\n",
    "The std along axis None"
   ]
  },
  {
   "cell_type": "code",
   "execution_count": 11,
   "metadata": {},
   "outputs": [
    {
     "name": "stdout",
     "output_type": "stream",
     "text": [
      "2 2\n",
      "1 2\n",
      "3 4\n",
      "[ 1.5  3.5]\n",
      "[ 1.  1.]\n",
      "1.11803398875\n"
     ]
    }
   ],
   "source": [
    "import numpy\n",
    "n,m=list(map(int,input().split(\" \")))\n",
    "arr=numpy.array([input().split() for i in range(n)],int)\n",
    "print(numpy.mean(arr,axis=1))\n",
    "print(numpy.var(arr,axis=0))\n",
    "print(numpy.std(arr,None))"
   ]
  },
  {
   "cell_type": "markdown",
   "metadata": {},
   "source": [
    "Task_6:Question_12: Dot and Cross\n",
    "\n",
    "You are given two arrays A and B. Both have dimensions of NXN.\n",
    "\n",
    "Your task is to compute their matrix product."
   ]
  },
  {
   "cell_type": "code",
   "execution_count": 12,
   "metadata": {},
   "outputs": [
    {
     "name": "stdout",
     "output_type": "stream",
     "text": [
      "2\n",
      "1 2\n",
      "3 4\n",
      "1 2\n",
      "3 4\n",
      "[[ 7 10]\n",
      " [15 22]]\n"
     ]
    }
   ],
   "source": [
    "import numpy\n",
    "n=int(input())\n",
    "arr1=numpy.array([input().split() for i in range(n)],int)\n",
    "arr2=numpy.array([input().split() for i in range(n)],int)\n",
    "print(numpy.dot(arr1,arr2))"
   ]
  },
  {
   "cell_type": "markdown",
   "metadata": {},
   "source": [
    "Task_6:Question_13: Inner and Outer\n",
    "\n",
    "You are given two arrays: A and B.\n",
    "\n",
    "Your task is to compute their inner and outer product."
   ]
  },
  {
   "cell_type": "code",
   "execution_count": 13,
   "metadata": {},
   "outputs": [
    {
     "name": "stdout",
     "output_type": "stream",
     "text": [
      "0 1\n",
      "2 3\n",
      "3\n",
      "[[0 0]\n",
      " [2 3]]\n"
     ]
    }
   ],
   "source": [
    "import numpy\n",
    "arr1=numpy.array(input().split(),int)\n",
    "arr2=numpy.array(input().split(),int)\n",
    "print(numpy.inner(arr1,arr2))\n",
    "print(numpy.outer(arr1,arr2))"
   ]
  },
  {
   "cell_type": "markdown",
   "metadata": {},
   "source": [
    "Task_6:Question_14: Polynomials\n",
    "\n",
    "You are given the coefficients of a polynomial P.\n",
    "\n",
    "Your task is to find the value of P at point X."
   ]
  },
  {
   "cell_type": "code",
   "execution_count": 14,
   "metadata": {},
   "outputs": [
    {
     "name": "stdout",
     "output_type": "stream",
     "text": [
      "1.1 2 3\n",
      "0\n",
      "3.0\n"
     ]
    }
   ],
   "source": [
    "import numpy\n",
    "l=list(map(float,input().split()))\n",
    "x=float(input())\n",
    "print(numpy.polyval(l,x))"
   ]
  },
  {
   "cell_type": "markdown",
   "metadata": {},
   "source": [
    "Task_6:Question_15 : Linear Algebra\n",
    "\n",
    "You are given a square matrix A with dimensions NXN. Your task is to find the determinant. "
   ]
  },
  {
   "cell_type": "code",
   "execution_count": 15,
   "metadata": {},
   "outputs": [
    {
     "name": "stdout",
     "output_type": "stream",
     "text": [
      "2\n",
      "1.1 1.1\n",
      "1.1 1.1\n",
      "0.0\n"
     ]
    }
   ],
   "source": [
    "import numpy\n",
    "n=int(input())\n",
    "arr=numpy.array([input().split() for i in range(n)],float)\n",
    "print(numpy.linalg.det(arr))"
   ]
  }
 ],
 "metadata": {
  "kernelspec": {
   "display_name": "Python 3",
   "language": "python",
   "name": "python3"
  },
  "language_info": {
   "codemirror_mode": {
    "name": "ipython",
    "version": 3
   },
   "file_extension": ".py",
   "mimetype": "text/x-python",
   "name": "python",
   "nbconvert_exporter": "python",
   "pygments_lexer": "ipython3",
   "version": "3.8.5"
  },
  "toc": {
   "base_numbering": 1,
   "nav_menu": {},
   "number_sections": true,
   "sideBar": true,
   "skip_h1_title": false,
   "title_cell": "Table of Contents",
   "title_sidebar": "Contents",
   "toc_cell": false,
   "toc_position": {},
   "toc_section_display": true,
   "toc_window_display": false
  }
 },
 "nbformat": 4,
 "nbformat_minor": 4
}
