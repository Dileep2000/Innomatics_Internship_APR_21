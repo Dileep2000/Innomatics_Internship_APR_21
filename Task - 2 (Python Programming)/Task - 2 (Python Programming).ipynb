{
 "cells": [
  {
   "cell_type": "markdown",
   "metadata": {},
   "source": [
    "Task_2:Question_1: List Comprehensions\n",
    "\n",
    "Given three integers x, y and z representing the dimensions of a cuboid along with an integer n. Print a list of all possible coordinates given by (x,y,z) on a 3D grid where the sum of i+j+k is not equal to . Here,0<=i<=x,0<=j<=y,0<=k<=z."
   ]
  },
  {
   "cell_type": "code",
   "execution_count": 1,
   "metadata": {},
   "outputs": [
    {
     "name": "stdout",
     "output_type": "stream",
     "text": [
      "1\n",
      "1\n",
      "1\n",
      "2\n",
      "[[0, 0, 0], [0, 0, 1], [0, 1, 0], [1, 0, 0], [1, 1, 1]]\n"
     ]
    }
   ],
   "source": [
    "x=int(input())\n",
    "y=int(input())\n",
    "z=int(input())\n",
    "n=int(input())\n",
    "l=[[i,j,k] for i in range(x+1) for j in range(y+1) for k in range(z+1) if i+j+k!=n]\n",
    "print(l)"
   ]
  },
  {
   "cell_type": "markdown",
   "metadata": {},
   "source": [
    "Task_2:Question_2:Find the Runner-Up Score!\n",
    "\n",
    "Given the participants' score sheet for your University Sports Day, you are required to find the runner-up score. You are given scores. Store them in a list and find the score of the runner-up. "
   ]
  },
  {
   "cell_type": "code",
   "execution_count": 2,
   "metadata": {},
   "outputs": [
    {
     "name": "stdout",
     "output_type": "stream",
     "text": [
      "5\n",
      "2 3 6 6 5\n",
      "5\n"
     ]
    }
   ],
   "source": [
    "n=int(input())\n",
    "lis=list(map(int,input().split(\" \")))\n",
    "print(sorted(set(lis))[-2])"
   ]
  },
  {
   "cell_type": "markdown",
   "metadata": {},
   "source": [
    "Task_2:Question_3: Nested Lists\n",
    "\n",
    "Given the names and grades for each student in a class of N students, store them in a nested list and print the name(s) of any student(s) having the second lowest grade."
   ]
  },
  {
   "cell_type": "code",
   "execution_count": 3,
   "metadata": {},
   "outputs": [
    {
     "name": "stdout",
     "output_type": "stream",
     "text": [
      "5\n",
      "D\n",
      "12.5\n",
      "I\n",
      "12\n",
      "L\n",
      "20\n",
      "E\n",
      "25\n",
      "P\n",
      "12.5\n",
      "D\n",
      "P\n"
     ]
    }
   ],
   "source": [
    "n=int(input())\n",
    "lis=[]\n",
    "for i in range(n):\n",
    "    lis.append([input(),float(input())])\n",
    "scores=[i[1] for i in lis]\n",
    "second_lowest_score=sorted(set(scores))[1]\n",
    "names=sorted([i[0] for i in lis if i[1]==second_lowest_score])\n",
    "for name in names:\n",
    "    print(name)"
   ]
  },
  {
   "cell_type": "markdown",
   "metadata": {},
   "source": [
    "Task_2:Question_4: Finding the percentage\n",
    "\n",
    "A dictionary containing key/value pairs of name:[marks] for a list of students. Print the average of the marks array for the student name provided, showing 2 places after the decimal. "
   ]
  },
  {
   "cell_type": "code",
   "execution_count": 4,
   "metadata": {},
   "outputs": [
    {
     "name": "stdout",
     "output_type": "stream",
     "text": [
      "2\n",
      "D 2 4 6 8\n",
      "E 1 3 5 7\n",
      "D\n",
      "5.00\n"
     ]
    }
   ],
   "source": [
    "n = int(input())\n",
    "student_marks = {}\n",
    "for _ in range(n):\n",
    "    name, *line = input().split()\n",
    "    scores = list(map(float, line))\n",
    "    student_marks[name] = scores\n",
    "query_name = input()\n",
    "sum_s=0\n",
    "for i in student_marks[query_name]:\n",
    "    sum_s=sum_s+i\n",
    "print(\"{0:.2f}\".format(sum_s/len(student_marks[query_name])))"
   ]
  },
  {
   "cell_type": "markdown",
   "metadata": {},
   "source": [
    "Task_2:Question_5: Lists\n",
    "\n",
    "Consider a list (list = []). You can perform the following commands:\n",
    "\n",
    "1.insert i e: Insert integer i at position e.\n",
    "\n",
    "2.print: Print the list.\n",
    "\n",
    "3.remove e: Delete the first occurrence of integer e.\n",
    "\n",
    "4.append e: Insert integer e at the end of the list.\n",
    "\n",
    "5.sort: Sort the list.\n",
    "\n",
    "6.pop: Pop the last element from the list.\n",
    "\n",
    "7.reverse: Reverse the list.\n",
    "\n",
    "You can See List and its methods In python using help(list)"
   ]
  },
  {
   "cell_type": "code",
   "execution_count": 5,
   "metadata": {
    "scrolled": false
   },
   "outputs": [
    {
     "name": "stdout",
     "output_type": "stream",
     "text": [
      "Help on class list in module builtins:\n",
      "\n",
      "class list(object)\n",
      " |  list(iterable=(), /)\n",
      " |  \n",
      " |  Built-in mutable sequence.\n",
      " |  \n",
      " |  If no argument is given, the constructor creates a new empty list.\n",
      " |  The argument must be an iterable if specified.\n",
      " |  \n",
      " |  Methods defined here:\n",
      " |  \n",
      " |  __add__(self, value, /)\n",
      " |      Return self+value.\n",
      " |  \n",
      " |  __contains__(self, key, /)\n",
      " |      Return key in self.\n",
      " |  \n",
      " |  __delitem__(self, key, /)\n",
      " |      Delete self[key].\n",
      " |  \n",
      " |  __eq__(self, value, /)\n",
      " |      Return self==value.\n",
      " |  \n",
      " |  __ge__(self, value, /)\n",
      " |      Return self>=value.\n",
      " |  \n",
      " |  __getattribute__(self, name, /)\n",
      " |      Return getattr(self, name).\n",
      " |  \n",
      " |  __getitem__(...)\n",
      " |      x.__getitem__(y) <==> x[y]\n",
      " |  \n",
      " |  __gt__(self, value, /)\n",
      " |      Return self>value.\n",
      " |  \n",
      " |  __iadd__(self, value, /)\n",
      " |      Implement self+=value.\n",
      " |  \n",
      " |  __imul__(self, value, /)\n",
      " |      Implement self*=value.\n",
      " |  \n",
      " |  __init__(self, /, *args, **kwargs)\n",
      " |      Initialize self.  See help(type(self)) for accurate signature.\n",
      " |  \n",
      " |  __iter__(self, /)\n",
      " |      Implement iter(self).\n",
      " |  \n",
      " |  __le__(self, value, /)\n",
      " |      Return self<=value.\n",
      " |  \n",
      " |  __len__(self, /)\n",
      " |      Return len(self).\n",
      " |  \n",
      " |  __lt__(self, value, /)\n",
      " |      Return self<value.\n",
      " |  \n",
      " |  __mul__(self, value, /)\n",
      " |      Return self*value.\n",
      " |  \n",
      " |  __ne__(self, value, /)\n",
      " |      Return self!=value.\n",
      " |  \n",
      " |  __repr__(self, /)\n",
      " |      Return repr(self).\n",
      " |  \n",
      " |  __reversed__(self, /)\n",
      " |      Return a reverse iterator over the list.\n",
      " |  \n",
      " |  __rmul__(self, value, /)\n",
      " |      Return value*self.\n",
      " |  \n",
      " |  __setitem__(self, key, value, /)\n",
      " |      Set self[key] to value.\n",
      " |  \n",
      " |  __sizeof__(self, /)\n",
      " |      Return the size of the list in memory, in bytes.\n",
      " |  \n",
      " |  append(self, object, /)\n",
      " |      Append object to the end of the list.\n",
      " |  \n",
      " |  clear(self, /)\n",
      " |      Remove all items from list.\n",
      " |  \n",
      " |  copy(self, /)\n",
      " |      Return a shallow copy of the list.\n",
      " |  \n",
      " |  count(self, value, /)\n",
      " |      Return number of occurrences of value.\n",
      " |  \n",
      " |  extend(self, iterable, /)\n",
      " |      Extend list by appending elements from the iterable.\n",
      " |  \n",
      " |  index(self, value, start=0, stop=9223372036854775807, /)\n",
      " |      Return first index of value.\n",
      " |      \n",
      " |      Raises ValueError if the value is not present.\n",
      " |  \n",
      " |  insert(self, index, object, /)\n",
      " |      Insert object before index.\n",
      " |  \n",
      " |  pop(self, index=-1, /)\n",
      " |      Remove and return item at index (default last).\n",
      " |      \n",
      " |      Raises IndexError if list is empty or index is out of range.\n",
      " |  \n",
      " |  remove(self, value, /)\n",
      " |      Remove first occurrence of value.\n",
      " |      \n",
      " |      Raises ValueError if the value is not present.\n",
      " |  \n",
      " |  reverse(self, /)\n",
      " |      Reverse *IN PLACE*.\n",
      " |  \n",
      " |  sort(self, /, *, key=None, reverse=False)\n",
      " |      Sort the list in ascending order and return None.\n",
      " |      \n",
      " |      The sort is in-place (i.e. the list itself is modified) and stable (i.e. the\n",
      " |      order of two equal elements is maintained).\n",
      " |      \n",
      " |      If a key function is given, apply it once to each list item and sort them,\n",
      " |      ascending or descending, according to their function values.\n",
      " |      \n",
      " |      The reverse flag can be set to sort in descending order.\n",
      " |  \n",
      " |  ----------------------------------------------------------------------\n",
      " |  Static methods defined here:\n",
      " |  \n",
      " |  __new__(*args, **kwargs) from builtins.type\n",
      " |      Create and return a new object.  See help(type) for accurate signature.\n",
      " |  \n",
      " |  ----------------------------------------------------------------------\n",
      " |  Data and other attributes defined here:\n",
      " |  \n",
      " |  __hash__ = None\n",
      "\n"
     ]
    }
   ],
   "source": [
    "help(list)"
   ]
  },
  {
   "cell_type": "code",
   "execution_count": null,
   "metadata": {},
   "outputs": [],
   "source": [
    "n=int(input())\n",
    "lis=[]\n",
    "for i in range(n):\n",
    "    l=input().split(\" \")\n",
    "    if l[0]=='insert':\n",
    "        lis.insert(int(l[1]),int(l[2]))\n",
    "        continue\n",
    "    if l[0]='print':\n",
    "        print(lis)\n",
    "        continue\n",
    "    if l[0]=='remove':\n",
    "        lis.remove(l[1])\n",
    "        continue\n",
    "    if l[0]=='append':\n",
    "        lis.append(l[1])\n",
    "        continue\n",
    "    if l[0]=='sort':\n",
    "        lis.sort()\n",
    "        continue\n",
    "    if l[0]='pop':\n",
    "        lis.pop()\n",
    "        continue\n",
    "    if l[0]=='reverse':\n",
    "        lis.reverse()\n",
    "        continue"
   ]
  },
  {
   "cell_type": "markdown",
   "metadata": {},
   "source": [
    "Task_2:Question_6: Tuples\n",
    "\n",
    "Given an integer, n , and n space-separated integers as input, create a tuple, t ,n of those integers. Then compute and print the result of hash(t). "
   ]
  },
  {
   "cell_type": "code",
   "execution_count": 6,
   "metadata": {},
   "outputs": [
    {
     "name": "stdout",
     "output_type": "stream",
     "text": [
      "5\n",
      "1 2 3 4 5\n",
      "-5659871693760987716\n"
     ]
    }
   ],
   "source": [
    "n=int(input())\n",
    "int_lis=map(int,input().split(\" \"))\n",
    "tup=tuple(int_lis)\n",
    "print(hash(tup))"
   ]
  },
  {
   "cell_type": "markdown",
   "metadata": {},
   "source": [
    "Task_2:Question_7: Introduction to Sets\n",
    "\n",
    "A set is an unordered collection of elements without duplicate entries.\n",
    "When printed, iterated or converted into a sequence, its elements will appear in an arbitrary order.\n",
    "\n",
    "Ms. Gabriel Williams is a botany professor at District College. One day, she asked her student Mickey to compute the average of all the plants with distinct heights in her greenhouse.\n",
    "\n",
    "Formula used: \n",
    "\n",
    "Average = Sum of Distint Heights/Total Number of Distint Heights"
   ]
  },
  {
   "cell_type": "code",
   "execution_count": 7,
   "metadata": {},
   "outputs": [
    {
     "name": "stdout",
     "output_type": "stream",
     "text": [
      "5\n",
      "1 2 3 5 3\n",
      "2.75\n"
     ]
    }
   ],
   "source": [
    "def average(array):\n",
    "    heights=set(array)\n",
    "    return sum(heights)/len(heights)\n",
    "n = int(input())\n",
    "arr = list(map(int, input().split()))\n",
    "result = average(arr)\n",
    "print(result)"
   ]
  },
  {
   "cell_type": "markdown",
   "metadata": {},
   "source": [
    "Task_2:Question_8: No Idea!\n",
    "\n",
    "There is an array of n integers. There are also 2 disjoint sets, A and B , each containing m integers. You like all the integers in set A and dislike all the integers in set B. Your initial happiness is 0. For each integer in the array, if i in A, you add 1 to your happiness. If i in B , you add -1 to your happiness. Otherwise, your happiness does not change. Output your final happiness at the end. "
   ]
  },
  {
   "cell_type": "code",
   "execution_count": 8,
   "metadata": {},
   "outputs": [
    {
     "name": "stdout",
     "output_type": "stream",
     "text": [
      "3 2\n",
      "1 5 3\n",
      "1 3\n",
      "5 7\n",
      "1\n"
     ]
    }
   ],
   "source": [
    "n,m=map(int,input().split(\" \"))\n",
    "arr=map(int,input().split())\n",
    "A=set(map(int,input().split(\" \")))\n",
    "B=set(map(int,input().split(\" \")))\n",
    "happiness=0\n",
    "for i in arr:\n",
    "    if i in A:\n",
    "        happiness+=1\n",
    "    elif i in B:\n",
    "        happiness-=1\n",
    "print(happiness)"
   ]
  },
  {
   "cell_type": "markdown",
   "metadata": {},
   "source": [
    "Task_2:Question_9: Symmetric Difference\n",
    "\n",
    "Given sets of integers, M and N , print their symmetric difference in ascending order. The term symmetric difference indicates those values that exist in either M or N but do not exist in both."
   ]
  },
  {
   "cell_type": "code",
   "execution_count": 9,
   "metadata": {},
   "outputs": [
    {
     "name": "stdout",
     "output_type": "stream",
     "text": [
      "5\n",
      "2 4 5 9\n",
      "5\n",
      "2 4 11 12\n",
      "5\n",
      "9\n",
      "11\n",
      "12\n"
     ]
    }
   ],
   "source": [
    "n=int(input())\n",
    "A=set(map(int,input().split(\" \")))\n",
    "m=int(input())\n",
    "B=set(map(int,input().split(\" \")))\n",
    "sym_diff=sorted(A.difference(B).union(B.difference(A)))\n",
    "for i in sym_diff:\n",
    "    print(i)"
   ]
  },
  {
   "cell_type": "markdown",
   "metadata": {},
   "source": [
    "Task_2:Question_10: Set .add()\n",
    "\n",
    "Apply your knowledge of the .add() operation to help your friend Rupal.\n",
    "\n",
    "Rupal has a huge collection of country stamps. She decided to count the total number of distinct country stamps in her collection. She asked for your help. You pick the stamps one by one from a stack of N country stamps.\n",
    "\n",
    "Find the total number of distinct country stamps."
   ]
  },
  {
   "cell_type": "code",
   "execution_count": 10,
   "metadata": {},
   "outputs": [
    {
     "name": "stdout",
     "output_type": "stream",
     "text": [
      "5\n",
      "1\n",
      "2\n",
      "2\n",
      "3\n",
      "4\n",
      "4\n"
     ]
    }
   ],
   "source": [
    "s=set()\n",
    "n=int(input())\n",
    "for i in range(n):\n",
    "    s.add(input())\n",
    "print(len(s))"
   ]
  },
  {
   "cell_type": "markdown",
   "metadata": {},
   "source": [
    "Task_2:Question_11: Set .discard(), .remove() & .pop()\n",
    "\n",
    "You have a non-empty set s, and you have to execute N commands given in N lines.\n",
    "\n",
    "The commands will be pop, remove and discard. "
   ]
  },
  {
   "cell_type": "code",
   "execution_count": null,
   "metadata": {},
   "outputs": [],
   "source": [
    "n = int(input())\n",
    "s = set(map(int, input().split()))\n",
    "m=int(input())\n",
    "for i in range(m):\n",
    "    l=input().split(\" \")\n",
    "    if l[0]=='remove':\n",
    "        s.remove(int(l[1]))\n",
    "    elif l[0]=='discard':\n",
    "        s.discard(int(l[1]))\n",
    "    else:\n",
    "        s.pop()\n",
    "print(sum(s))"
   ]
  },
  {
   "cell_type": "markdown",
   "metadata": {},
   "source": [
    "Task_2:Question_12: Set .union() Operation\n",
    "\n",
    "The students of District College have subscriptions to English and French newspapers. Some students have subscribed only to English, some have subscribed to only French and some have subscribed to both newspapers.\n",
    "\n",
    "You are given two sets of student roll numbers. One set has subscribed to the English newspaper, and the other set is subscribed to the French newspaper. The same student could be in both sets. Your task is to find the total number of students who have subscribed to at least one newspaper."
   ]
  },
  {
   "cell_type": "code",
   "execution_count": 13,
   "metadata": {},
   "outputs": [
    {
     "name": "stdout",
     "output_type": "stream",
     "text": [
      "5\n",
      "1 2 3 4 5\n",
      "5\n",
      "3 4 5 6 7\n",
      "7\n"
     ]
    }
   ],
   "source": [
    "n=int(input())\n",
    "English=set(map(int,input().split(\" \")))\n",
    "m=int(input())\n",
    "French=set(map(int,input().split(\" \")))\n",
    "set_union=English.union(French)\n",
    "print(len(set_union))"
   ]
  },
  {
   "cell_type": "markdown",
   "metadata": {},
   "source": [
    "Task_2:Question_13: Set .intersection() Operation\n",
    "\n",
    "The students of District College have subscriptions to English and French newspapers. Some students have subscribed only to English, some have subscribed only to French, and some have subscribed to both newspapers.\n",
    "\n",
    "You are given two sets of student roll numbers. One set has subscribed to the English newspaper, one set has subscribed to the French newspaper. Your task is to find the total number of students who have subscribed to both newspapers."
   ]
  },
  {
   "cell_type": "code",
   "execution_count": 15,
   "metadata": {},
   "outputs": [
    {
     "name": "stdout",
     "output_type": "stream",
     "text": [
      "5\n",
      "1 2 3 4 5\n",
      "5\n",
      "3 4 5 6 7\n",
      "3\n"
     ]
    }
   ],
   "source": [
    "n=int(input())\n",
    "English=set(map(int,input().split(\" \")))\n",
    "m=int(input())\n",
    "French=set(map(int,input().split(\" \")))\n",
    "common=English.intersection(French)\n",
    "print(len(common))"
   ]
  },
  {
   "cell_type": "markdown",
   "metadata": {},
   "source": [
    "Task_2:Question_14: Set .difference() Operation\n",
    "\n",
    "Students of District College have a subscription to English and French newspapers. Some students have subscribed to only the English newspaper, some have subscribed to only the French newspaper, and some have subscribed to both newspapers.\n",
    "\n",
    "You are given two sets of student roll numbers. One set has subscribed to the English newspaper, and one set has subscribed to the French newspaper. Your task is to find the total number of students who have subscribed to only English newspapers."
   ]
  },
  {
   "cell_type": "code",
   "execution_count": 16,
   "metadata": {},
   "outputs": [
    {
     "name": "stdout",
     "output_type": "stream",
     "text": [
      "5\n",
      "1 2 3 4 5\n",
      "5\n",
      "3 4 5 6 7\n",
      "2\n"
     ]
    }
   ],
   "source": [
    "n=int(input())\n",
    "English=set(map(int,input().split(\" \")))\n",
    "m=int(input())\n",
    "French=set(map(int,input().split(\" \")))\n",
    "set_difference=English.difference(French)\n",
    "print(len(set_difference))"
   ]
  },
  {
   "cell_type": "markdown",
   "metadata": {},
   "source": [
    "Task_2:Question_15: Set .symmetric_difference() Operation\n",
    "\n",
    "Students of District College have subscriptions to English and French newspapers. Some students have subscribed to English only, some have subscribed to French only, and some have subscribed to both newspapers.\n",
    "\n",
    "You are given two sets of student roll numbers. One set has subscribed to the English newspaper, and one set has subscribed to the French newspaper. Your task is to find the total number of students who have subscribed to either the English or the French newspaper but not both."
   ]
  },
  {
   "cell_type": "code",
   "execution_count": 17,
   "metadata": {},
   "outputs": [
    {
     "name": "stdout",
     "output_type": "stream",
     "text": [
      "5\n",
      "1 2 3 4 5\n",
      "5\n",
      "3 4 5 6 7\n",
      "4\n"
     ]
    }
   ],
   "source": [
    "n=int(input())\n",
    "English=set(map(int,input().split(\" \")))\n",
    "m=int(input())\n",
    "French=set(map(int,input().split(\" \")))\n",
    "set_symmetric=English.symmetric_difference(French)\n",
    "print(len(set_symmetric))"
   ]
  },
  {
   "cell_type": "markdown",
   "metadata": {},
   "source": [
    "Task_2:Question_16:  Set Mutations\n",
    "\n",
    "You are given a set A and N number of other sets. These N number of sets have to perform some specific mutation operations on set A.\n",
    "\n",
    "Your task is to execute those operations and print the sum of elements from set A."
   ]
  },
  {
   "cell_type": "code",
   "execution_count": null,
   "metadata": {},
   "outputs": [],
   "source": [
    "n=int(input())\n",
    "A=set(map(int,input().split(\" \")))\n",
    "N=int(input())\n",
    "for i in range(N):\n",
    "    l=input().split(\" \")\n",
    "    B=set(map(int,input().split(\" \")))\n",
    "    if l[0]=='intersection_update':\n",
    "        A.intersection_update(B)\n",
    "    elif l[0]=='update':\n",
    "        A.update(B)\n",
    "    elif l[0]=='symmetric_difference_update':\n",
    "        A.symmetric_difference_update(B)\n",
    "    elif l[0]=='difference_update':\n",
    "        A.difference_update(B)\n",
    "print(sum(A))"
   ]
  },
  {
   "cell_type": "markdown",
   "metadata": {},
   "source": [
    "Task_2:Question_17: The Captain's Room\n",
    "\n",
    "Mr. Anant Asankhya is the manager at the INFINITE hotel. The hotel has an infinite amount of rooms.\n",
    "\n",
    "One fine day, a finite number of tourists come to stay at the hotel.\n",
    "The tourists consist of:\n",
    "→ A Captain.\n",
    "→ An unknown group of families consisting of k members per group where k≠1.\n",
    "\n",
    "The Captain was given a separate room, and the rest were given one room per group.\n",
    "\n",
    "Mr. Anant has an unordered list of randomly arranged room entries. The list consists of the room numbers for all of the tourists. The room numbers will appear k times per group except for the Captain's room.\n",
    "\n",
    "Mr. Anant needs you to help him find the Captain's room number.\n",
    "The total number of tourists or the total number of groups of families is not known to you.\n",
    "You only know the value of k and the room number list."
   ]
  },
  {
   "cell_type": "code",
   "execution_count": 18,
   "metadata": {},
   "outputs": [
    {
     "name": "stdout",
     "output_type": "stream",
     "text": [
      "5\n",
      "1 2 3 6 5 4 4 2 5 3 6 1 6 5 3 2 4 1 2 5 1 4 3 6 8 4 3 1 5 6 2\n",
      "8\n"
     ]
    }
   ],
   "source": [
    "n=int(input())\n",
    "lis=list(map(int,input().split(\" \")))\n",
    "from collections import Counter\n",
    "counts=Counter(lis)\n",
    "for i,count in counts.items():\n",
    "    if count!=n:\n",
    "        print(i)\n",
    "        break"
   ]
  },
  {
   "cell_type": "markdown",
   "metadata": {},
   "source": [
    "Task_2:Question_18: Check Subset\n",
    "\n",
    "You are given two sets, A and B.\n",
    "Your job is to find whether set A is a subset of set B.\n",
    "\n",
    "If set A is subset of set B, print True.\n",
    "If set A is not a subset of set B, print False."
   ]
  },
  {
   "cell_type": "code",
   "execution_count": 19,
   "metadata": {},
   "outputs": [
    {
     "name": "stdout",
     "output_type": "stream",
     "text": [
      "1\n",
      "4\n",
      "1 2 3 4\n",
      "6\n",
      "1 2 3 4 5 6\n",
      "True\n"
     ]
    }
   ],
   "source": [
    "t=int(input())\n",
    "for i in range(t):\n",
    "    n=int(input())\n",
    "    A=set(map(int,input().split(\" \")))\n",
    "    m=int(input())\n",
    "    B=set(map(int,input().split(\" \")))\n",
    "    if A.issubset(B):\n",
    "        print('True')\n",
    "    else:\n",
    "        print('False')"
   ]
  },
  {
   "cell_type": "markdown",
   "metadata": {},
   "source": [
    "Task_2:Question_19: Check Strict Superset\n",
    "\n",
    "You are given a set A and n other sets.\n",
    "Your job is to find whether set A is a strict superset of each of the n sets.\n",
    "\n",
    "Print True, if A is a strict superset of each of the n sets. Otherwise, print False.\n",
    "\n",
    "A strict superset has at least one element that does not exist in its subset. "
   ]
  },
  {
   "cell_type": "code",
   "execution_count": 20,
   "metadata": {},
   "outputs": [
    {
     "name": "stdout",
     "output_type": "stream",
     "text": [
      "1 2 3 4 5 6 7 8 9\n",
      "2\n",
      "1 2 3 4\n",
      "5 6 7 8\n",
      "True\n"
     ]
    }
   ],
   "source": [
    "A=set(map(int,input().split(\" \")))\n",
    "n=int(input())\n",
    "flag=1\n",
    "for i in range(n):\n",
    "    B=set(map(int,input().split(\" \")))\n",
    "    if B.issubset(A) and len(A)==len(B):\n",
    "        flag=0\n",
    "        break\n",
    "    elif not B.issubset(A):\n",
    "        flag=0\n",
    "        break\n",
    "if flag==1:\n",
    "    print('True')\n",
    "else:\n",
    "    print('False')"
   ]
  },
  {
   "cell_type": "markdown",
   "metadata": {},
   "source": [
    "THE END"
   ]
  }
 ],
 "metadata": {
  "kernelspec": {
   "display_name": "Python 3",
   "language": "python",
   "name": "python3"
  },
  "language_info": {
   "codemirror_mode": {
    "name": "ipython",
    "version": 3
   },
   "file_extension": ".py",
   "mimetype": "text/x-python",
   "name": "python",
   "nbconvert_exporter": "python",
   "pygments_lexer": "ipython3",
   "version": "3.8.5"
  },
  "toc": {
   "base_numbering": 1,
   "nav_menu": {},
   "number_sections": true,
   "sideBar": true,
   "skip_h1_title": false,
   "title_cell": "Table of Contents",
   "title_sidebar": "Contents",
   "toc_cell": false,
   "toc_position": {},
   "toc_section_display": true,
   "toc_window_display": false
  }
 },
 "nbformat": 4,
 "nbformat_minor": 4
}
